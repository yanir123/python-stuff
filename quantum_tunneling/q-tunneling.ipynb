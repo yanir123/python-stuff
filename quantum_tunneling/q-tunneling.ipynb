{
 "cells": [
  {
   "cell_type": "code",
   "execution_count": 148,
   "metadata": {},
   "outputs": [],
   "source": [
    "import matplotlib\n",
    "matplotlib.use('Qt5Agg')\n",
    "import matplotlib.pyplot as plt\n",
    "import scipy as sp\n",
    "import numpy as np\n",
    "from scipy.sparse import linalg as ln\n",
    "from scipy import sparse as sparse\n",
    "import matplotlib.animation as animation"
   ]
  },
  {
   "cell_type": "code",
   "execution_count": 149,
   "metadata": {},
   "outputs": [],
   "source": [
    "n_points = 400\n",
    "dt = 0.5\n",
    "sigma0 = 5.0\n",
    "k0 = 1.0\n",
    "x0 = -150.0\n",
    "x_begin = -200.0\n",
    "x_end = 200.0\n",
    "barrier_height = 1.0\n",
    "barrier_width = 10.0\n",
    "\n",
    "prob = np.zeros(n_points)\n",
    "x, dx = np.linspace(x_begin, x_end, n_points, retstep=True)\n",
    "norm = (2.0 * np.pi * sigma0 ** 2) ** (-0.25)\n",
    "psi = np.exp(-(x - x0) ** 2 / (4.0 * sigma0 ** 2)) * np.exp(1.0j * k0 * x) * (2.0 * np.pi * sigma0 ** 2) ** (-0.25)"
   ]
  },
  {
   "cell_type": "code",
   "execution_count": 150,
   "metadata": {},
   "outputs": [],
   "source": [
    "potential = np.zeros(x.shape)\n",
    "potential[np.where((0.0 < x) & (x < barrier_width))] = barrier_height"
   ]
  },
  {
   "cell_type": "code",
   "execution_count": 151,
   "metadata": {},
   "outputs": [],
   "source": [
    "h_diag = np.ones(n_points) / dx ** 2 + potential\n",
    "h_non_diag = np.ones(n_points - 1) * (-0.5 / dx ** 2)\n",
    "hamiltonian = sparse.diags([h_diag, h_non_diag, h_non_diag], [0, 1, -1])"
   ]
  },
  {
   "cell_type": "code",
   "execution_count": 152,
   "metadata": {},
   "outputs": [],
   "source": [
    "implicit = (sparse.eye(n_points) - dt / 2.0j * hamiltonian).tocsc()\n",
    "explicit = (sparse.eye(n_points) + dt / 2.0j * hamiltonian).tocsc()\n",
    "evolution_matrix = ln.inv(implicit).dot(explicit).tocsr()"
   ]
  },
  {
   "cell_type": "code",
   "execution_count": 153,
   "metadata": {},
   "outputs": [],
   "source": [
    "def evolve() -> np.array:\n",
    "        global psi\n",
    "        psi = evolution_matrix.dot(psi)\n",
    "        prob = np.abs(psi) ** 2\n",
    "\n",
    "        norm = prob.sum(axis=0)\n",
    "        prob /= norm\n",
    "        psi /= norm ** 0.5\n",
    "\n",
    "        return prob"
   ]
  },
  {
   "cell_type": "code",
   "execution_count": 154,
   "metadata": {},
   "outputs": [
    {
     "data": {
      "text/plain": [
       "Text(0, 0.5, 'Probability density (a$_0$)')"
      ]
     },
     "execution_count": 154,
     "metadata": {},
     "output_type": "execute_result"
    }
   ],
   "source": [
    "time = 0.0\n",
    "fig, ax = plt.subplots()\n",
    "plt.plot(x, potential * 0.1, color='r')\n",
    "\n",
    "time_text = ax.text(0.05, 0.95, '', horizontalalignment='left', verticalalignment='top', transform=ax.transAxes)\n",
    "line, = ax.plot(x, evolve())\n",
    "ax.set_ylim(0, 0.2)\n",
    "ax.set_xlabel('Position (a$_0$)')\n",
    "ax.set_ylabel('Probability density (a$_0$)')"
   ]
  },
  {
   "cell_type": "code",
   "execution_count": 155,
   "metadata": {},
   "outputs": [],
   "source": [
    "def time_step() -> np.array:\n",
    "    global time\n",
    "    while True:\n",
    "        time += dt\n",
    "        time_text.set_text('Elapsed time: {:6.2f} fs'.format(time * 2.149e-2))\n",
    "        yield evolve()"
   ]
  },
  {
   "cell_type": "code",
   "execution_count": 156,
   "metadata": {},
   "outputs": [],
   "source": [
    "def update(data: np.array) -> tuple:\n",
    "    line.set_ydata(data)\n",
    "    return line, "
   ]
  },
  {
   "cell_type": "code",
   "execution_count": 157,
   "metadata": {},
   "outputs": [],
   "source": [
    "ani = animation.FuncAnimation(fig, update, time_step, interval=5, blit=False)"
   ]
  },
  {
   "cell_type": "code",
   "execution_count": 158,
   "metadata": {},
   "outputs": [],
   "source": [
    "plt.show()"
   ]
  }
 ],
 "metadata": {
  "kernelspec": {
   "display_name": "Python 3",
   "language": "python",
   "name": "python3"
  },
  "language_info": {
   "codemirror_mode": {
    "name": "ipython",
    "version": 3
   },
   "file_extension": ".py",
   "mimetype": "text/x-python",
   "name": "python",
   "nbconvert_exporter": "python",
   "pygments_lexer": "ipython3",
   "version": "3.11.1"
  },
  "orig_nbformat": 4,
  "vscode": {
   "interpreter": {
    "hash": "909e608edc0ce81068c09479a58682ed9332e7f35527fe84df1191ad21c3bfd3"
   }
  }
 },
 "nbformat": 4,
 "nbformat_minor": 2
}
