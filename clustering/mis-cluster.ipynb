{
 "cells": [
  {
   "cell_type": "code",
   "execution_count": 1,
   "metadata": {},
   "outputs": [],
   "source": [
    "import pandas as pd\n",
    "import numpy as np\n",
    "import plotly.express as px\n",
    "import matplotlib.pyplot as plt\n",
    "import datetime as dt\n",
    "from scipy.spatial.distance import cdist\n",
    "from TBAG.TrajectoryClustering import TBAG\n",
    "from sklearn.metrics.pairwise import haversine_distances\n",
    "# from sklearn.cluster import DBSCAN, AgglomerativeClustering\n",
    "# from sklearn.neighbors import KDTree\n",
    "# from sklearn.preprocessing import RobustScaler"
   ]
  },
  {
   "cell_type": "code",
   "execution_count": 2,
   "metadata": {},
   "outputs": [],
   "source": [
    "plots = pd.concat((pd.read_csv(r'blue_tracks_absolute.csv'), pd.read_csv(r'red_tracks_absolute.csv')), axis=0)"
   ]
  },
  {
   "cell_type": "code",
   "execution_count": 3,
   "metadata": {},
   "outputs": [],
   "source": [
    "plots = plots.drop(['Unnamed: 0', 'BlueTrackId', 'RedTrackId'], axis=1)\n",
    "plots['epoch'] = (pd.to_datetime(plots['TimeStamp']) - dt.datetime(1970, 1, 1)).dt.total_seconds()"
   ]
  },
  {
   "cell_type": "code",
   "execution_count": 4,
   "metadata": {},
   "outputs": [],
   "source": [
    "plots[['Lat', 'Lon']] = np.deg2rad(plots[['Lat', 'Lon']])"
   ]
  },
  {
   "cell_type": "code",
   "execution_count": 5,
   "metadata": {},
   "outputs": [],
   "source": [
    "plots = plots.sort_values('epoch').reset_index()"
   ]
  },
  {
   "cell_type": "code",
   "execution_count": 6,
   "metadata": {},
   "outputs": [],
   "source": [
    "data = plots[['Lat', 'Lon', 'Alt', 'epoch']].to_numpy(dtype='float64')"
   ]
  },
  {
   "cell_type": "code",
   "execution_count": 7,
   "metadata": {},
   "outputs": [],
   "source": [
    "# for i in plots[['Lat', 'Lon', 'Alt', 'epoch']].to_numpy():\n",
    "#     print(i)"
   ]
  },
  {
   "cell_type": "code",
   "execution_count": 8,
   "metadata": {},
   "outputs": [
    {
     "ename": "KeyError",
     "evalue": "'devsys'",
     "output_type": "error",
     "traceback": [
      "\u001b[0;31m---------------------------------------------------------------------------\u001b[0m",
      "\u001b[0;31mKeyError\u001b[0m                                  Traceback (most recent call last)",
      "Cell \u001b[0;32mIn[8], line 1\u001b[0m\n\u001b[0;32m----> 1\u001b[0m model \u001b[39m=\u001b[39m TBAG(eps\u001b[39m=\u001b[39;49m\u001b[39m100\u001b[39;49m, alpha\u001b[39m=\u001b[39;49m\u001b[39m3000\u001b[39;49m, max_speed\u001b[39m=\u001b[39;49m\u001b[39m300\u001b[39;49m, min_speed\u001b[39m=\u001b[39;49m\u001b[39m0\u001b[39;49m, window\u001b[39m=\u001b[39;49m\u001b[39m4\u001b[39;49m)\n\u001b[1;32m      2\u001b[0m plots[\u001b[39m'\u001b[39m\u001b[39mclusterid\u001b[39m\u001b[39m'\u001b[39m] \u001b[39m=\u001b[39m model\u001b[39m.\u001b[39mfit_predict(plots, lat_col\u001b[39m=\u001b[39m\u001b[39m'\u001b[39m\u001b[39mLat\u001b[39m\u001b[39m'\u001b[39m, lon_col\u001b[39m=\u001b[39m\u001b[39m'\u001b[39m\u001b[39mLon\u001b[39m\u001b[39m'\u001b[39m, alt_col\u001b[39m=\u001b[39m\u001b[39m'\u001b[39m\u001b[39mAlt\u001b[39m\u001b[39m'\u001b[39m, timestamp_col\u001b[39m=\u001b[39m\u001b[39m'\u001b[39m\u001b[39mepoch\u001b[39m\u001b[39m'\u001b[39m)\u001b[39m.\u001b[39mastype(\u001b[39m'\u001b[39m\u001b[39mstr\u001b[39m\u001b[39m'\u001b[39m)\n",
      "File \u001b[0;32m~/Documents/python-stuff/clustering/TBAG/TrajectoryClustering.py:41\u001b[0m, in \u001b[0;36mTBAG.__init__\u001b[0;34m(self, eps, alpha, time_eps, max_speed, min_speed, window)\u001b[0m\n\u001b[1;32m     18\u001b[0m \u001b[39m\"\"\"Class that is used as an API to run the underlying c code\u001b[39;00m\n\u001b[1;32m     19\u001b[0m \n\u001b[1;32m     20\u001b[0m \u001b[39mParameters\u001b[39;00m\n\u001b[0;32m   (...)\u001b[0m\n\u001b[1;32m     38\u001b[0m \u001b[39m    If the c library was not found\u001b[39;00m\n\u001b[1;32m     39\u001b[0m \u001b[39m\"\"\"\u001b[39;00m\n\u001b[1;32m     40\u001b[0m \u001b[39mtry\u001b[39;00m:\n\u001b[0;32m---> 41\u001b[0m     \u001b[39mprint\u001b[39m(os\u001b[39m.\u001b[39mpath\u001b[39m.\u001b[39mdirname(sys\u001b[39m.\u001b[39;49mmodules[\u001b[39m'\u001b[39;49m\u001b[39mdevsys\u001b[39;49m\u001b[39m'\u001b[39;49m]\u001b[39m.\u001b[39m\u001b[39m__file__\u001b[39m))\n\u001b[1;32m     42\u001b[0m     \u001b[39mself\u001b[39m\u001b[39m.\u001b[39mc_trajectory_clustering_function \u001b[39m=\u001b[39m npct\u001b[39m.\u001b[39mload_library(\n\u001b[1;32m     43\u001b[0m         \u001b[39m'\u001b[39m\u001b[39mtrajectory_clustering\u001b[39m\u001b[39m'\u001b[39m,\n\u001b[1;32m     44\u001b[0m         os\u001b[39m.\u001b[39mpath\u001b[39m.\u001b[39mdirname(sys\u001b[39m.\u001b[39mmodules[\u001b[39m'\u001b[39m\u001b[39mdevsys\u001b[39m\u001b[39m'\u001b[39m]\u001b[39m.\u001b[39m\u001b[39m__file__\u001b[39m)\n\u001b[1;32m     45\u001b[0m     )\u001b[39m.\u001b[39magglomerative_clustering\n\u001b[1;32m     46\u001b[0m \u001b[39mexcept\u001b[39;00m \u001b[39mOSError\u001b[39;00m:\n",
      "\u001b[0;31mKeyError\u001b[0m: 'devsys'"
     ]
    }
   ],
   "source": [
    "model = TBAG(eps=100, alpha=3000, max_speed=300, min_speed=0, window=4)\n",
    "plots['clusterid'] = model.fit_predict(plots, lat_col='Lat', lon_col='Lon', alt_col='Alt', timestamp_col='epoch').astype('str')"
   ]
  },
  {
   "cell_type": "code",
   "execution_count": null,
   "metadata": {},
   "outputs": [],
   "source": [
    "fig = px.scatter_3d(plots, x='Lon', y='Lat', z='Alt', color='clusterid', template='plotly_dark', labels=None)\n",
    "fig = fig.update_traces(marker={'size': 2}).update_scenes(xaxis_showticklabels=False, yaxis_showticklabels=False, zaxis_showticklabels=False)\n",
    "fig.show()"
   ]
  },
  {
   "cell_type": "code",
   "execution_count": null,
   "metadata": {},
   "outputs": [],
   "source": [
    "spatial_plots = RobustScaler().fit_transform(plots[['Lat', 'Lon', 'Alt', 'epoch']])\n",
    "\n",
    "kdt = KDTree(spatial_plots, metric='euclidean')\n",
    "\n",
    "k = 2 * spatial_plots.shape[-1] - 1\n",
    "\n",
    "dist, ind = kdt.query(spatial_plots, k=k)\n",
    "\n",
    "dist = np.sort(dist, axis=0)\n",
    "dist = dist[:, k-1]\n",
    "px.line(dist)"
   ]
  },
  {
   "cell_type": "code",
   "execution_count": null,
   "metadata": {},
   "outputs": [],
   "source": [
    "model = DBSCAN(eps=0.1581433, min_samples=spatial_plots.shape[1] * 2)\n",
    "plots['clusterid'] = model.fit_predict(spatial_plots).astype('str')"
   ]
  },
  {
   "cell_type": "code",
   "execution_count": null,
   "metadata": {},
   "outputs": [],
   "source": [
    "fig = px.scatter_3d(plots, x='Lon', y='Lat', z='Alt', color='clusterid', hover_name='TimeStamp', template='plotly_dark', labels=None)\n",
    "fig = fig.update_traces(marker={'size': 2}).update_scenes(xaxis_showticklabels=False, yaxis_showticklabels=False, zaxis_showticklabels=False)\n",
    "fig.show()"
   ]
  },
  {
   "cell_type": "code",
   "execution_count": null,
   "metadata": {},
   "outputs": [],
   "source": [
    "def calc_angle(a, b):\n",
    "    m, k = a.shape\n",
    "    n, kk = b.shape\n",
    "\n",
    "    result = np.zeros((m, n), dtype='float')\n",
    "\n",
    "    if m < n:\n",
    "        for i in range(m):\n",
    "            delta = a[i] - b\n",
    "            result[i, :] = np.arctan(delta[:, 1] / delta[:, 0])\n",
    "    else:\n",
    "        for j in range(n):\n",
    "            delta = a - b[j]\n",
    "            result[:, j] = np.arctan(delta[:, 1] / delta[:, 0])\n",
    "    return result"
   ]
  },
  {
   "cell_type": "code",
   "execution_count": null,
   "metadata": {},
   "outputs": [],
   "source": [
    "def distance_function(a):\n",
    "    print(a.shape)\n",
    "    euclidean_distance = cdist(a, a)\n",
    "    angles = calc_angle(a, a)\n",
    "    return euclidean_distance + angles"
   ]
  },
  {
   "cell_type": "code",
   "execution_count": null,
   "metadata": {},
   "outputs": [],
   "source": [
    "model = AgglomerativeClustering(distance_threshold=0.0995433, linkage='single', n_clusters=None)\n",
    "plots['clusterid'] = model.fit_predict(spatial_plots).astype('str')"
   ]
  },
  {
   "cell_type": "code",
   "execution_count": null,
   "metadata": {},
   "outputs": [],
   "source": [
    "fig = px.scatter_3d(plots, x='Lon', y='Lat', z='Alt', color='clusterid', hover_name='TimeStamp', template='plotly_dark', labels=None)\n",
    "fig = fig.update_traces(marker={'size': 2}).update_scenes(xaxis_showticklabels=False, yaxis_showticklabels=False, zaxis_showticklabels=False)\n",
    "fig.show()"
   ]
  },
  {
   "cell_type": "code",
   "execution_count": 93,
   "metadata": {},
   "outputs": [],
   "source": [
    "plots['cluster_id'] = np.array([0, 1, 1, 0, 2, 1, 3, 1, 3, 1, 1, 2, 0, 1, 1, 2, 1, 0, 1, 3, 1, 2, 1, 0, 1, 2, 0, 1, 1, 0, 1, 0, 2, 1, 0, 1, 1, 0, 0, 4, 2, 1, 2, 1, 1, 0, 1, 0, 1, 5, 0, 1, 1, 2, 0, 1, 0, 6, 1, 0, 2, 1, 1, 0, 7, 2, 0, 1, 1, 0, 2, 8, 0, 1, 1, 0, 0, 1, 1, 0, 0, 1, 0, 1, 1, 2, 1, 9, 1, 2, 1, 0, 0, 1, 1, 0, 1, \n",
    "2, 0, 1, 1, 0, 0, 1, 1, 2, 1, 2, 0, 10, 1, 0, 0, 1, 0, 1, 1, 2, 11, 0, 1, 2, 1, 0, 1, 0, 1, 12, 1, 0, 0, 1, 0, 1, 1, 0, 1, 2, 2, 1, 1, 0, 1, 0, 0, 1, 1, 2, 13, 2, 0, 1, 1, 2, 14, 1, 1, 0, 1, 2, 1, 0, 1, 0, 2, 1, 14, 1, 0, 1, 1, 0, 2, 1, 1, 0, 1, 2, 1, 0, 1, 0, 0, 1, 15, 1, 0, 1, 2, 1, 1, 2, \n",
    "1, 0, 0, 1, 2, 1, 2, 1, 0, 1, 1, 0, 0, 1, 1, 0, 1, 2, 0, 1, 2, 1, 0, 1, 0, 1, 1, 0, 1, 2, 2, 1, 1, 0, 0, 1, 2, 1, 1, 2, 0, 1, 1, 2, 0, 1, 2, 1, 1, 2, 0, 1, 0, 1, 2, 1, 0, 1, 1, 0, 1, 0, 1, 0, 1, 16, 2, 1, 0, 1, 0, 1, 2, 1, 0, 1, 1, 0, 1, 0, 1, 17, 2, 1, 0, 1, 1, 0, 1, 0, 2, 1, 1, 0, 1, 0, 0, 18, 1, 0, 1, 0, 2, 1, 0, 1, 1, 0, 2, 1, 1, 0, 1, 2, 0, 1, 2, 1, 0, 1, 2, 1, 0, 1, 1, 19, 1, 2, 1, 0, 1, 0, 2, 1, 0, 1, 1, 2, 1, 0, 1, 20, 0, 1, 1, 2, 0, 1, 1, 20, 20, 1, 2, 1, 0, 1, 0, 1, 2, 1, 1, 0, 1, 2, 0, 1, 1, 0, 1, 0, 1, 2, 1, 2, 1, 2, 1, 0, 1, 0, 1, 0, 1, 0, 1, 2, 1, 0, 1, 0, 1, 2, 2, 2, 0, 0, 0, 2, 0, 0]).astype('str')"
   ]
  },
  {
   "cell_type": "code",
   "execution_count": null,
   "metadata": {},
   "outputs": [],
   "source": [
    "fig = px.scatter_3d(plots, x='Lon', y='Lat', z='Alt', color='cluster_id', hover_name='TimeStamp', template='plotly_dark')\n",
    "fig = fig.update_traces(marker={'size': 2}).update_scenes(xaxis_showticklabels=False, yaxis_showticklabels=False, zaxis_showticklabels=False)\n",
    "fig.show()"
   ]
  }
 ],
 "metadata": {
  "kernelspec": {
   "display_name": "Python 3",
   "language": "python",
   "name": "python3"
  },
  "language_info": {
   "codemirror_mode": {
    "name": "ipython",
    "version": 3
   },
   "file_extension": ".py",
   "mimetype": "text/x-python",
   "name": "python",
   "nbconvert_exporter": "python",
   "pygments_lexer": "ipython3",
   "version": "3.11.1"
  },
  "orig_nbformat": 4,
  "vscode": {
   "interpreter": {
    "hash": "ead1b95f633dc9c51826328e1846203f51a198c6fb5f2884a80417ba131d4e82"
   }
  }
 },
 "nbformat": 4,
 "nbformat_minor": 2
}
