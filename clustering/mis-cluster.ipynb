{
 "cells": [
  {
   "cell_type": "code",
   "execution_count": 1,
   "metadata": {},
   "outputs": [],
   "source": [
    "import pandas as pd\n",
    "import numpy as np\n",
    "import plotly.express as px\n",
    "import matplotlib.pyplot as plt\n",
    "import datetime as dt\n",
    "from TBAG import TBAG\n",
    "from scipy.spatial.distance import cdist\n",
    "from sklearn.metrics.pairwise import haversine_distances\n",
    "from sklearn.cluster import DBSCAN, AgglomerativeClustering\n",
    "from sklearn.neighbors import KDTree\n",
    "from sklearn.preprocessing import RobustScaler"
   ]
  },
  {
   "cell_type": "code",
   "execution_count": 2,
   "metadata": {},
   "outputs": [],
   "source": [
    "plots = pd.concat((pd.read_csv(r'blue_tracks_absolute.csv'), pd.read_csv(r'red_tracks_absolute.csv')), axis=0)"
   ]
  },
  {
   "cell_type": "code",
   "execution_count": 3,
   "metadata": {},
   "outputs": [],
   "source": [
    "plots = plots.drop(['Unnamed: 0', 'BlueTrackId', 'RedTrackId'], axis=1)\n",
    "plots['epoch'] = (pd.to_datetime(plots['TimeStamp']) - dt.datetime(1970, 1, 1)).dt.total_seconds()"
   ]
  },
  {
   "cell_type": "code",
   "execution_count": 4,
   "metadata": {},
   "outputs": [],
   "source": [
    "plots[['Lat', 'Lon']] = np.deg2rad(plots[['Lat', 'Lon']])"
   ]
  },
  {
   "cell_type": "code",
   "execution_count": 5,
   "metadata": {},
   "outputs": [],
   "source": [
    "plots = plots.sort_values('epoch').reset_index()"
   ]
  },
  {
   "cell_type": "code",
   "execution_count": 6,
   "metadata": {},
   "outputs": [],
   "source": [
    "data = plots[['Lat', 'Lon', 'Alt', 'epoch']].to_numpy(dtype='float64')"
   ]
  },
  {
   "cell_type": "code",
   "execution_count": 88,
   "metadata": {},
   "outputs": [],
   "source": [
    "for i in plots[['Lat', 'Lon', 'Alt', 'epoch']].to_numpy():\n",
    "    print(i)"
   ]
  },
  {
   "cell_type": "code",
   "execution_count": 27,
   "metadata": {},
   "outputs": [],
   "source": [
    "model = TBAG(eps=150, alpha=250, max_speed=np.inf, min_speed=0, window=4)\n",
    "plots['clusterid'] = model.fit_predict(plots, lat_col='Lat', lon_col='Lon', alt_col='Alt', timestamp_col='epoch').astype('str')"
   ]
  },
  {
   "cell_type": "code",
   "execution_count": 1,
   "metadata": {},
   "outputs": [],
   "source": [
    "fig = px.scatter_3d(plots, x='Lon', y='Lat', z='Alt', color='clusterid', template='plotly_dark', labels=None)\n",
    "fig = fig.update_traces(marker={'size': 2}).update_scenes(xaxis_showticklabels=False, yaxis_showticklabels=False, zaxis_showticklabels=False)\n",
    "fig.show()"
   ]
  },
  {
   "cell_type": "code",
   "execution_count": null,
   "metadata": {},
   "outputs": [],
   "source": [
    "spatial_plots = RobustScaler().fit_transform(plots[['Lat', 'Lon', 'Alt', 'epoch']])\n",
    "\n",
    "kdt = KDTree(spatial_plots, metric='euclidean')\n",
    "\n",
    "k = 2 * spatial_plots.shape[-1] - 1\n",
    "\n",
    "dist, ind = kdt.query(spatial_plots, k=k)\n",
    "\n",
    "dist = np.sort(dist, axis=0)\n",
    "dist = dist[:, k-1]\n",
    "px.line(dist)"
   ]
  },
  {
   "cell_type": "code",
   "execution_count": null,
   "metadata": {},
   "outputs": [],
   "source": [
    "model = DBSCAN(eps=0.1581433, min_samples=spatial_plots.shape[1] * 2)\n",
    "plots['clusterid'] = model.fit_predict(spatial_plots).astype('str')"
   ]
  },
  {
   "cell_type": "code",
   "execution_count": null,
   "metadata": {},
   "outputs": [],
   "source": [
    "fig = px.scatter_3d(plots, x='Lon', y='Lat', z='Alt', color='clusterid', hover_name='TimeStamp', template='plotly_dark', labels=None)\n",
    "fig = fig.update_traces(marker={'size': 2}).update_scenes(xaxis_showticklabels=False, yaxis_showticklabels=False, zaxis_showticklabels=False)\n",
    "fig.show()"
   ]
  },
  {
   "cell_type": "code",
   "execution_count": null,
   "metadata": {},
   "outputs": [],
   "source": [
    "def calc_angle(a, b):\n",
    "    m, k = a.shape\n",
    "    n, kk = b.shape\n",
    "\n",
    "    result = np.zeros((m, n), dtype='float')\n",
    "\n",
    "    if m < n:\n",
    "        for i in range(m):\n",
    "            delta = a[i] - b\n",
    "            result[i, :] = np.arctan(delta[:, 1] / delta[:, 0])\n",
    "    else:\n",
    "        for j in range(n):\n",
    "            delta = a - b[j]\n",
    "            result[:, j] = np.arctan(delta[:, 1] / delta[:, 0])\n",
    "    return result"
   ]
  },
  {
   "cell_type": "code",
   "execution_count": null,
   "metadata": {},
   "outputs": [],
   "source": [
    "def distance_function(a):\n",
    "    print(a.shape)\n",
    "    euclidean_distance = cdist(a, a)\n",
    "    angles = calc_angle(a, a)\n",
    "    return euclidean_distance + angles"
   ]
  },
  {
   "cell_type": "code",
   "execution_count": null,
   "metadata": {},
   "outputs": [],
   "source": [
    "model = AgglomerativeClustering(distance_threshold=0.0995433, linkage='single', n_clusters=None)\n",
    "plots['clusterid'] = model.fit_predict(spatial_plots).astype('str')"
   ]
  },
  {
   "cell_type": "code",
   "execution_count": null,
   "metadata": {},
   "outputs": [],
   "source": [
    "fig = px.scatter_3d(plots, x='Lon', y='Lat', z='Alt', color='clusterid', hover_name='TimeStamp', template='plotly_dark', labels=None)\n",
    "fig = fig.update_traces(marker={'size': 2}).update_scenes(xaxis_showticklabels=False, yaxis_showticklabels=False, zaxis_showticklabels=False)\n",
    "fig.show()"
   ]
  },
  {
   "cell_type": "code",
   "execution_count": 9,
   "metadata": {},
   "outputs": [],
   "source": [
    "plots['cluster_id'] = np.array([0, 1, 1, 0, 0, 1, 2, 1, 2, 1, 1, 2, 1, 2, 1, 3, 1, 3, 1, 3, 1, 4, 1, 4, 4, 1, 5, 1, 1, 5, 1, 5, 5, 1, 5, 1, 5, 1, 5, 1, 5, 1, 5, 1, 1, 5, 5, 1, 5, 1, 5, 1, 1, 5, 5, 1, 5, 1, 1, 5, 1, 5, 1, 5, 1, 5, 5, 1, 1, 5, 5, 1, 1, 5, 1, 5, 5, 1, 1, 5, 5, 1, 1, 5, 5, 1, 1, 5, 1, 5, 1, 5, 5, 1, 5, 1, 5, 1, 5, 1, 1, 5, 5, 1, 1, 5, 1, 5, 1, 5, 1, 5, 5, 1, 5, 1, 1, 5, 5, 1, 5, 1, 1, 5, 1, 5, 1, 5, 1, 5, 5, 1, 1, 5, 1, 5, 1, 5, 5, 1, 1, 5, 1, 5, 1, 5, 1, 5, 1, 5, 5, 1, 1, 5, 5, 1, 5, 1, 1, 5, 1, 5, 1, 5, 5, 1, 5, 1, 1, 5, 1, 5, 5, 1, 1, 5, 1, 5, 1, 5, 5, 1, 5, 1, 5, 1, 5, 1, 5, 1, 1, 5, 1, 5, 1, 5, 5, 1, 5, 1, 5, 1, 1, 5, 5, 1, 5, 1, 1, 5, 5, 1, 5, 1, 5, 1, 5, 1, 5, 1, 1, 5, 5, 1, 1, 5, 5, 1, 5, 1, 5, 1, 5, 1, 1, 5, 5, 1, 5, 1, 1, 5, 1, 5, 5, 1, 5, 1, 5, 1, 1, 5, 1, 5, 5, 1, 1, 5, 5, 1, 5, 1, 5, 1, 5, 1, 1, 5, 1, 5, 1, 5, 1, 5, 5, 1, 5, 1, 5, 1, 1, 5, 5, 1, 1, 5, 1, 5, 5, 1, 5, 1, 5, 1, 5, 1, 5, 1, 1, 5, 5, 1, 1, 5, 5, 1, 5, 1, 5, 1, 5, 1, 5, 1, 1, 5, 5, 1, 1, 5, 1, 5, 1, 5, 5, 1, 5, 1, 5, 1, 1, 5, 1, 5, 5, 1, 1, 5, 5, 1, 5, 1, 5, 1, 5, 1, 5, 1, 5, 1, 5, 1, 5, 1, 1, 5, 5, 1, 1, 5, 1, 5, 1, 5, 5, 1, 1, 5, 1, 5, 1, 5, 1, 5, 1, 5, 5, 1, 1, 5, 1, 5, 1, 5, 5, 5, 5, 5, 5, 5, 5, 5]).astype('str')"
   ]
  },
  {
   "cell_type": "code",
   "execution_count": 11,
   "metadata": {},
   "outputs": [],
   "source": [
    "fig = px.scatter_3d(plots, x='Lon', y='Lat', z='Alt', color='cluster_id', hover_name='TimeStamp', template='plotly_dark')\n",
    "fig = fig.update_traces(marker={'size': 2}).update_scenes(xaxis_showticklabels=False, yaxis_showticklabels=False, zaxis_showticklabels=False)\n",
    "fig.show()"
   ]
  },
  {
   "cell_type": "code",
   "execution_count": null,
   "metadata": {},
   "outputs": [],
   "source": []
  }
 ],
 "metadata": {
  "kernelspec": {
   "display_name": "Python 3",
   "language": "python",
   "name": "python3"
  },
  "language_info": {
   "codemirror_mode": {
    "name": "ipython",
    "version": 3
   },
   "file_extension": ".py",
   "mimetype": "text/x-python",
   "name": "python",
   "nbconvert_exporter": "python",
   "pygments_lexer": "ipython3",
   "version": "3.11.1"
  },
  "orig_nbformat": 4,
  "vscode": {
   "interpreter": {
    "hash": "ead1b95f633dc9c51826328e1846203f51a198c6fb5f2884a80417ba131d4e82"
   }
  }
 },
 "nbformat": 4,
 "nbformat_minor": 2
}
