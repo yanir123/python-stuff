{
 "cells": [
  {
   "cell_type": "code",
   "execution_count": 1,
   "metadata": {},
   "outputs": [],
   "source": [
    "import pandas as pd\n",
    "import numpy as np\n",
    "import matplotlib.pyplot as plt"
   ]
  },
  {
   "cell_type": "code",
   "execution_count": null,
   "metadata": {},
   "outputs": [],
   "source": [
    "def parse_raw_position(data):\n",
    "    data[['alpha', 'delta']] = (\n",
    "        data['raw position']\n",
    "        .str.split(expand=True)\n",
    "        .astype(float)\n",
    "    )\n",
    "    \n",
    "    data.drop('raw position', axis=1, inplace=True)\n",
    "\n",
    "    return data\n"
   ]
  },
  {
   "cell_type": "code",
   "execution_count": null,
   "metadata": {},
   "outputs": [],
   "source": [
    "def convert_to_degrees(data):\n",
    "    columns = ['parallax', 'proper motion alpha', 'proper motion delta',\n",
    "               'error alpha', 'error delta', 'error parallax',\n",
    "               'error motion alpha', 'error motion delta']\n",
    "\n",
    "    for column in columns:\n",
    "        data[column] = data[column].astype(float) / 3600000.0\n",
    "        \n",
    "    return data\n"
   ]
  },
  {
   "cell_type": "code",
   "execution_count": null,
   "metadata": {},
   "outputs": [],
   "source": [
    "def parse_input_file(filename):\n",
    "    data = pd.read_csv(filename, delimiter='|', engine='python',\n",
    "                       skiprows=11,\n",
    "                       skipfooter=1,\n",
    "                       index_col=0,\n",
    "                       header=0,\n",
    "                       usecols=[1, 4, 7, 9, 10, 11, 12, 13, 14, 15, 16],\n",
    "                       names=['index', 'magnitude', 'raw position', 'parallax',\n",
    "                              'proper motion alpha', 'proper motion delta',\n",
    "                              'error alpha', 'error delta', 'error parallax',\n",
    "                              'error motion alpha', 'error motion delta'])\n",
    "\n",
    "    data = parse_raw_position(data)\n",
    "    data.dropna(inplace=True)\n",
    "    data = convert_to_degrees(data)\n",
    "    data['magnitude'] = data['magnitude'].astype(float)\n",
    "    \n",
    "    return data\n"
   ]
  }
 ],
 "metadata": {
  "kernelspec": {
   "display_name": "Python 3",
   "language": "python",
   "name": "python3"
  },
  "language_info": {
   "codemirror_mode": {
    "name": "ipython",
    "version": 3
   },
   "file_extension": ".py",
   "mimetype": "text/x-python",
   "name": "python",
   "nbconvert_exporter": "python",
   "pygments_lexer": "ipython3",
   "version": "3.11.1 (main, Dec 20 2022, 23:58:38) [GCC 12.2.0]"
  },
  "orig_nbformat": 4,
  "vscode": {
   "interpreter": {
    "hash": "ead1b95f633dc9c51826328e1846203f51a198c6fb5f2884a80417ba131d4e82"
   }
  }
 },
 "nbformat": 4,
 "nbformat_minor": 2
}
