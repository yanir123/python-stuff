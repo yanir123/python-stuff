{
 "cells": [
  {
   "cell_type": "markdown",
   "id": "6fff3489",
   "metadata": {},
   "source": [
    "# Mars image recognition"
   ]
  },
  {
   "cell_type": "code",
   "execution_count": 13,
   "id": "91896006",
   "metadata": {},
   "outputs": [],
   "source": [
    "import pandas as pd\n",
    "import numpy as np\n",
    "import PIL\n",
    "import tensorflow as tf\n",
    "import matplotlib.pyplot as plt\n",
    "from tensorflow.keras import layers, models"
   ]
  },
  {
   "cell_type": "code",
   "execution_count": 2,
   "id": "b16207ce",
   "metadata": {},
   "outputs": [],
   "source": [
    "data_folder = '../data/hirise-map-proj-v3_2/'"
   ]
  },
  {
   "cell_type": "code",
   "execution_count": 3,
   "id": "2d0391a3",
   "metadata": {},
   "outputs": [],
   "source": [
    "def extract_metadata() -> pd.DataFrame:\n",
    "    images_and_labels = None\n",
    "    with open(data_folder + 'labels-map-proj_v3_2_train_val_test.txt', 'r') as f:\n",
    "        images_and_labels = f.readlines()\n",
    "    images_and_labels = pd.DataFrame(images_and_labels).replace('\\n', '', regex=True)[0].str.split(' ', expand=True)\n",
    "    images_and_labels.rename(columns={0: 'file_name', 1: 'label', 2: 'type'}, inplace=True)\n",
    "    return images_and_labels"
   ]
  },
  {
   "cell_type": "code",
   "execution_count": 4,
   "id": "12c4a864",
   "metadata": {},
   "outputs": [],
   "source": [
    "metadata = extract_metadata()"
   ]
  },
  {
   "cell_type": "code",
   "execution_count": 5,
   "id": "d7a85e7c",
   "metadata": {},
   "outputs": [],
   "source": [
    "train_data = metadata[metadata['type'] == 'train']\n",
    "test_data = metadata[metadata['type'] == 'test']\n",
    "val_data = metadata[metadata['type'] == 'val']"
   ]
  },
  {
   "cell_type": "code",
   "execution_count": 6,
   "id": "26cd98c1",
   "metadata": {},
   "outputs": [],
   "source": [
    "def image_to_np(image: pd.Series) -> np.array:\n",
    "    return np.asarray(PIL.Image.open(data_folder + 'map-proj-v3_2/' + image['file_name']))"
   ]
  },
  {
   "cell_type": "code",
   "execution_count": 7,
   "id": "37ae38a0",
   "metadata": {},
   "outputs": [],
   "source": [
    "def get_data(data: pd.DataFrame) -> tuple:\n",
    "    labels = data['label']\n",
    "    data = data.apply(image_to_np, axis=1)\n",
    "    return np.stack(data.to_numpy()), np.stack(labels.to_numpy()).astype(float)"
   ]
  },
  {
   "cell_type": "code",
   "execution_count": 8,
   "id": "c128eb4b",
   "metadata": {},
   "outputs": [],
   "source": [
    "train_data, train_labels = get_data(train_data)\n",
    "test_data, test_labels = get_data(test_data)\n",
    "val_data, val_labels = get_data(val_data)"
   ]
  },
  {
   "cell_type": "code",
   "execution_count": 9,
   "id": "81b87873",
   "metadata": {},
   "outputs": [
    {
     "name": "stderr",
     "output_type": "stream",
     "text": [
      "2022-03-15 00:50:40.109882: W tensorflow/stream_executor/platform/default/dso_loader.cc:64] Could not load dynamic library 'libcuda.so.1'; dlerror: libcuda.so.1: cannot open shared object file: No such file or directory\n",
      "2022-03-15 00:50:40.109901: W tensorflow/stream_executor/cuda/cuda_driver.cc:269] failed call to cuInit: UNKNOWN ERROR (303)\n",
      "2022-03-15 00:50:40.109914: I tensorflow/stream_executor/cuda/cuda_diagnostics.cc:156] kernel driver does not appear to be running on this host (ArchPC): /proc/driver/nvidia/version does not exist\n",
      "2022-03-15 00:50:40.110113: I tensorflow/core/platform/cpu_feature_guard.cc:151] This TensorFlow binary is optimized with oneAPI Deep Neural Network Library (oneDNN) to use the following CPU instructions in performance-critical operations:  AVX2 FMA\n",
      "To enable them in other operations, rebuild TensorFlow with the appropriate compiler flags.\n"
     ]
    }
   ],
   "source": [
    "model = models.Sequential()\n",
    "model.add(layers.Conv2D(32, (3, 3), activation='relu', input_shape=(227, 227, 1)))\n",
    "model.add(layers.MaxPool2D((2, 2)))\n",
    "model.add(layers.Conv2D(64, (3, 3), activation='relu'))\n",
    "model.add(layers.MaxPool2D((2, 2)))\n",
    "model.add(layers.Conv2D(64, (3, 3), activation='relu'))"
   ]
  },
  {
   "cell_type": "code",
   "execution_count": 10,
   "id": "0f36ec4d",
   "metadata": {},
   "outputs": [],
   "source": [
    "model.add(layers.Flatten())\n",
    "model.add(layers.Dense(64, activation='relu'))\n",
    "model.add(layers.Dense(8))"
   ]
  },
  {
   "cell_type": "code",
   "execution_count": 11,
   "id": "6d3101a5",
   "metadata": {},
   "outputs": [
    {
     "name": "stdout",
     "output_type": "stream",
     "text": [
      "Epoch 1/5\n"
     ]
    },
    {
     "name": "stderr",
     "output_type": "stream",
     "text": [
      "2022-03-15 00:50:56.405124: W tensorflow/core/framework/cpu_allocator_impl.cc:82] Allocation of 2630967682 exceeds 10% of free system memory.\n"
     ]
    },
    {
     "name": "stdout",
     "output_type": "stream",
     "text": [
      "1596/1596 [==============================] - ETA: 0s - loss: 1.4794 - accuracy: 0.8001"
     ]
    },
    {
     "name": "stderr",
     "output_type": "stream",
     "text": [
      "2022-03-15 01:11:19.169338: W tensorflow/core/framework/cpu_allocator_impl.cc:82] Allocation of 770822311 exceeds 10% of free system memory.\n"
     ]
    },
    {
     "name": "stdout",
     "output_type": "stream",
     "text": [
      "1596/1596 [==============================] - 1277s 800ms/step - loss: 1.4794 - accuracy: 0.8001 - val_loss: 0.9560 - val_accuracy: 0.7551\n",
      "Epoch 2/5\n",
      "1596/1596 [==============================] - 1270s 795ms/step - loss: 0.8123 - accuracy: 0.8030 - val_loss: 1.0360 - val_accuracy: 0.7597\n",
      "Epoch 3/5\n",
      "1596/1596 [==============================] - 1273s 797ms/step - loss: 0.7771 - accuracy: 0.8178 - val_loss: 1.1170 - val_accuracy: 0.7599\n",
      "Epoch 4/5\n",
      "1596/1596 [==============================] - 1293s 810ms/step - loss: 0.6493 - accuracy: 0.8396 - val_loss: 1.1224 - val_accuracy: 0.7600\n",
      "Epoch 5/5\n",
      "1596/1596 [==============================] - 1281s 802ms/step - loss: 0.5386 - accuracy: 0.8640 - val_loss: 1.3186 - val_accuracy: 0.7476\n"
     ]
    }
   ],
   "source": [
    "model.compile(optimizer='adam', loss=tf.keras.losses.SparseCategoricalCrossentropy(from_logits=True), metrics=['accuracy'])\n",
    "history = model.fit(train_data, train_labels, epochs=5, validation_data=(val_data, val_labels))"
   ]
  },
  {
   "cell_type": "code",
   "execution_count": 14,
   "id": "9b2ddd07",
   "metadata": {},
   "outputs": [
    {
     "data": {
      "text/plain": [
       "<matplotlib.legend.Legend at 0x7f64b5718af0>"
      ]
     },
     "execution_count": 14,
     "metadata": {},
     "output_type": "execute_result"
    },
    {
     "data": {
      "image/png": "[encoded data removed]",
      "text/plain": [
       "<Figure size 432x288 with 1 Axes>"
      ]
     },
     "metadata": {
      "needs_background": "light"
     },
     "output_type": "display_data"
    }
   ],
   "source": [
    "plt.plot(history.history['accuracy'], label='accuracy')\n",
    "plt.plot(history.history['val_accuracy'], label = 'val_accuracy')\n",
    "plt.xlabel('Epoch')\n",
    "plt.ylabel('Accuracy')\n",
    "plt.ylim([0.5, 1])\n",
    "plt.legend(loc='lower right')"
   ]
  },
  {
   "cell_type": "code",
   "execution_count": 16,
   "id": "092abf44",
   "metadata": {},
   "outputs": [
    {
     "name": "stdout",
     "output_type": "stream",
     "text": [
      "57/57 - 7s - loss: 1.1048 - accuracy: 0.8148 - 7s/epoch - 122ms/step\n"
     ]
    }
   ],
   "source": [
    "test_loss, test_acc = model.evaluate(test_data,  test_labels, verbose=2)"
   ]
  },
  {
   "cell_type": "code",
   "execution_count": 18,
   "id": "11b0d7f2",
   "metadata": {},
   "outputs": [
    {
     "name": "stdout",
     "output_type": "stream",
     "text": [
      "0.8148354887962341\n"
     ]
    }
   ],
   "source": [
    "print(test_acc)"
   ]
  },
  {
   "cell_type": "code",
   "execution_count": 22,
   "id": "f9c96662",
   "metadata": {},
   "outputs": [
    {
     "name": "stdout",
     "output_type": "stream",
     "text": [
      "INFO:tensorflow:Assets written to: ./model/assets\n"
     ]
    }
   ],
   "source": [
    "model.save('./model')"
   ]
  }
 ],
 "metadata": {
  "kernelspec": {
   "display_name": "Python 3 (ipykernel)",
   "language": "python",
   "name": "python3"
  },
  "language_info": {
   "codemirror_mode": {
    "name": "ipython",
    "version": 3
   },
   "file_extension": ".py",
   "mimetype": "text/x-python",
   "name": "python",
   "nbconvert_exporter": "python",
   "pygments_lexer": "ipython3",
   "version": "3.10.2"
  }
 },
 "nbformat": 4,
 "nbformat_minor": 5
}
