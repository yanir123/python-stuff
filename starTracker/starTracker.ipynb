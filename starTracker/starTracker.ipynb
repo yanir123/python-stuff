{
 "cells": [
  {
   "cell_type": "markdown",
   "id": "6fff3489",
   "metadata": {},
   "source": [
    "# Mars image recognition"
   ]
  },
  {
   "cell_type": "markdown",
   "id": "04699d40",
   "metadata": {},
   "source": [
    "#### Don't use gpu"
   ]
  },
  {
   "cell_type": "code",
   "execution_count": 1,
   "id": "67486ee6",
   "metadata": {
    "ExecuteTime": {
     "end_time": "2022-03-23T21:50:51.994699Z",
     "start_time": "2022-03-23T21:50:51.992814Z"
    }
   },
   "outputs": [],
   "source": [
    "import os\n",
    "os.environ[\"CUDA_VISIBLE_DEVICES\"] = \"-1\""
   ]
  },
  {
   "cell_type": "markdown",
   "id": "8ea5162f",
   "metadata": {},
   "source": [
    "#### Includes"
   ]
  },
  {
   "cell_type": "code",
   "execution_count": 2,
   "id": "91896006",
   "metadata": {
    "ExecuteTime": {
     "end_time": "2022-03-23T21:50:53.563650Z",
     "start_time": "2022-03-23T21:50:51.995679Z"
    }
   },
   "outputs": [],
   "source": [
    "import pandas as pd\n",
    "import numpy as np\n",
    "import PIL\n",
    "import tensorflow as tf\n",
    "import matplotlib.pyplot as plt\n",
    "from tensorflow.keras import layers, models, models"
   ]
  },
  {
   "cell_type": "markdown",
   "id": "b366515e",
   "metadata": {},
   "source": [
    "#### Load data from files"
   ]
  },
  {
   "cell_type": "code",
   "execution_count": 3,
   "id": "b16207ce",
   "metadata": {
    "ExecuteTime": {
     "end_time": "2022-03-23T21:50:53.567228Z",
     "start_time": "2022-03-23T21:50:53.565300Z"
    }
   },
   "outputs": [],
   "source": [
    "data_folder = '../data/hirise-map-proj-v3_2/'"
   ]
  },
  {
   "cell_type": "code",
   "execution_count": 4,
   "id": "2d0391a3",
   "metadata": {
    "ExecuteTime": {
     "end_time": "2022-03-23T21:50:53.572309Z",
     "start_time": "2022-03-23T21:50:53.569741Z"
    },
    "code_folding": []
   },
   "outputs": [],
   "source": [
    "def extract_metadata() -> pd.DataFrame:\n",
    "    images_and_labels = None\n",
    "    with open(data_folder + 'labels-map-proj_v3_2_train_val_test.txt',\n",
    "              'r') as f:\n",
    "        images_and_labels = f.readlines()\n",
    "    images_and_labels = pd.DataFrame(images_and_labels).replace(\n",
    "        '\\n', '', regex=True)[0].str.split(' ', expand=True)\n",
    "    images_and_labels.rename(columns={\n",
    "        0: 'file_name',\n",
    "        1: 'label',\n",
    "        2: 'type'\n",
    "    },\n",
    "                             inplace=True)\n",
    "    return images_and_labels"
   ]
  },
  {
   "cell_type": "code",
   "execution_count": 5,
   "id": "12c4a864",
   "metadata": {
    "ExecuteTime": {
     "end_time": "2022-03-23T21:50:53.756765Z",
     "start_time": "2022-03-23T21:50:53.573266Z"
    }
   },
   "outputs": [],
   "source": [
    "metadata = extract_metadata()"
   ]
  },
  {
   "cell_type": "code",
   "execution_count": 6,
   "id": "d7a85e7c",
   "metadata": {
    "ExecuteTime": {
     "end_time": "2022-03-23T21:50:53.773003Z",
     "start_time": "2022-03-23T21:50:53.757771Z"
    }
   },
   "outputs": [],
   "source": [
    "train_data = metadata[metadata['type'] == 'train']\n",
    "test_data = metadata[metadata['type'] == 'test']\n",
    "val_data = metadata[metadata['type'] == 'val']"
   ]
  },
  {
   "cell_type": "code",
   "execution_count": 7,
   "id": "26cd98c1",
   "metadata": {
    "ExecuteTime": {
     "end_time": "2022-03-23T21:50:53.776394Z",
     "start_time": "2022-03-23T21:50:53.774133Z"
    }
   },
   "outputs": [],
   "source": [
    "def image_to_np(image: pd.Series) -> np.array:\n",
    "    return np.asarray(\n",
    "        PIL.Image.open(data_folder + 'map-proj-v3_2/' + image['file_name']))"
   ]
  },
  {
   "cell_type": "code",
   "execution_count": 8,
   "id": "37ae38a0",
   "metadata": {
    "ExecuteTime": {
     "end_time": "2022-03-23T21:50:53.781252Z",
     "start_time": "2022-03-23T21:50:53.778631Z"
    }
   },
   "outputs": [],
   "source": [
    "def get_data(data: pd.DataFrame) -> tuple:\n",
    "    labels = data['label']\n",
    "    data = data.apply(image_to_np, axis=1)\n",
    "    return np.stack(data.to_numpy()), np.stack(labels.to_numpy()).astype(float)"
   ]
  },
  {
   "cell_type": "code",
   "execution_count": 9,
   "id": "c128eb4b",
   "metadata": {
    "ExecuteTime": {
     "end_time": "2022-03-23T21:51:13.005236Z",
     "start_time": "2022-03-23T21:50:53.782349Z"
    }
   },
   "outputs": [],
   "source": [
    "train_data, train_labels = get_data(train_data)\n",
    "test_data, test_labels = get_data(test_data)\n",
    "val_data, val_labels = get_data(val_data)"
   ]
  },
  {
   "cell_type": "markdown",
   "id": "23541dfa",
   "metadata": {},
   "source": [
    "#### Train the model"
   ]
  },
  {
   "cell_type": "code",
   "execution_count": 10,
   "id": "81b87873",
   "metadata": {
    "ExecuteTime": {
     "end_time": "2022-03-23T21:51:13.116440Z",
     "start_time": "2022-03-23T21:51:13.006512Z"
    }
   },
   "outputs": [
    {
     "name": "stderr",
     "output_type": "stream",
     "text": [
      "2022-03-23 23:51:13.034275: E tensorflow/stream_executor/cuda/cuda_driver.cc:271] failed call to cuInit: CUDA_ERROR_NO_DEVICE: no CUDA-capable device is detected\n",
      "2022-03-23 23:51:13.034331: I tensorflow/stream_executor/cuda/cuda_diagnostics.cc:169] retrieving CUDA diagnostic information for host: ArchPC\n",
      "2022-03-23 23:51:13.034341: I tensorflow/stream_executor/cuda/cuda_diagnostics.cc:176] hostname: ArchPC\n",
      "2022-03-23 23:51:13.034444: I tensorflow/stream_executor/cuda/cuda_diagnostics.cc:200] libcuda reported version is: 510.54.0\n",
      "2022-03-23 23:51:13.034479: I tensorflow/stream_executor/cuda/cuda_diagnostics.cc:204] kernel reported version is: 510.54.0\n",
      "2022-03-23 23:51:13.034488: I tensorflow/stream_executor/cuda/cuda_diagnostics.cc:310] kernel version seems to match DSO: 510.54.0\n",
      "2022-03-23 23:51:13.035039: I tensorflow/core/platform/cpu_feature_guard.cc:151] This TensorFlow binary is optimized with oneAPI Deep Neural Network Library (oneDNN) to use the following CPU instructions in performance-critical operations:  AVX2 FMA\n",
      "To enable them in other operations, rebuild TensorFlow with the appropriate compiler flags.\n"
     ]
    }
   ],
   "source": [
    "model = models.Sequential()\n",
    "model.add(\n",
    "    layers.Conv2D(32, (3, 3), activation='relu', input_shape=(227, 227, 1)))\n",
    "model.add(layers.BatchNormalization())\n",
    "model.add(layers.Dropout(.2))\n",
    "model.add(layers.Conv2D(64, (3, 3), activation='relu'))\n",
    "model.add(layers.MaxPool2D((2, 2)))\n",
    "model.add(layers.Dropout(.2))\n",
    "model.add(layers.Conv2D(64, (3, 3), activation='relu'))\n",
    "model.add(layers.AvgPool2D((2, 2)))\n",
    "model.add(layers.Dropout(.2))\n",
    "model.add(layers.Conv2D(64, (3, 3), activation='relu'))"
   ]
  },
  {
   "cell_type": "code",
   "execution_count": 11,
   "id": "0f36ec4d",
   "metadata": {
    "ExecuteTime": {
     "end_time": "2022-03-23T21:51:13.161208Z",
     "start_time": "2022-03-23T21:51:13.117677Z"
    }
   },
   "outputs": [],
   "source": [
    "model.add(layers.Flatten())\n",
    "model.add(layers.Dense(64, activation='relu'))\n",
    "model.add(layers.Dense(8))"
   ]
  },
  {
   "cell_type": "code",
   "execution_count": null,
   "id": "6d3101a5",
   "metadata": {
    "ExecuteTime": {
     "start_time": "2022-03-23T21:50:52.009Z"
    }
   },
   "outputs": [
    {
     "name": "stderr",
     "output_type": "stream",
     "text": [
      "2022-03-23 23:51:13.169206: W tensorflow/core/framework/cpu_allocator_impl.cc:82] Allocation of 2630967682 exceeds 10% of free system memory.\n"
     ]
    },
    {
     "name": "stdout",
     "output_type": "stream",
     "text": [
      "Epoch 1/10\n",
      " 67/982 [=>............................] - ETA: 1:13:11 - loss: 1.2569 - accuracy: 0.7712"
     ]
    }
   ],
   "source": [
    "model.compile(\n",
    "    optimizer='adam',\n",
    "    loss=tf.keras.losses.SparseCategoricalCrossentropy(from_logits=True),\n",
    "    metrics=['accuracy'])\n",
    "history = model.fit(train_data, train_labels, epochs=10, batch_size=52)"
   ]
  },
  {
   "cell_type": "markdown",
   "id": "68015747",
   "metadata": {},
   "source": [
    "#### Check model accuracy and performance"
   ]
  },
  {
   "cell_type": "code",
   "execution_count": null,
   "id": "73d928bb",
   "metadata": {
    "ExecuteTime": {
     "start_time": "2022-03-23T21:50:52.011Z"
    }
   },
   "outputs": [],
   "source": [
    "val_loss, val_acc = model.evaluate(val_data, val_labels, verbose=2)\n",
    "print(val_loss)"
   ]
  },
  {
   "cell_type": "code",
   "execution_count": null,
   "id": "9b2ddd07",
   "metadata": {
    "ExecuteTime": {
     "start_time": "2022-03-23T21:50:52.013Z"
    }
   },
   "outputs": [],
   "source": [
    "plt.plot(history.history['accuracy'], label='accuracy')\n",
    "# plt.plot(history.history['val_accuracy'], label='val_accuracy')\n",
    "plt.xlabel('Epoch')\n",
    "plt.ylabel('Accuracy')\n",
    "plt.ylim([0.5, 1])\n",
    "plt.legend(loc='lower right')"
   ]
  },
  {
   "cell_type": "code",
   "execution_count": null,
   "id": "092abf44",
   "metadata": {
    "ExecuteTime": {
     "start_time": "2022-03-23T21:50:52.016Z"
    }
   },
   "outputs": [],
   "source": [
    "test_loss, test_acc = model.evaluate(test_data, test_labels, verbose=2)\n",
    "print(test_acc)"
   ]
  },
  {
   "cell_type": "markdown",
   "id": "3e465db0",
   "metadata": {},
   "source": [
    "#### Save model "
   ]
  },
  {
   "cell_type": "code",
   "execution_count": null,
   "id": "f9c96662",
   "metadata": {
    "ExecuteTime": {
     "start_time": "2022-03-23T21:50:52.018Z"
    }
   },
   "outputs": [],
   "source": [
    "model.save('./model')"
   ]
  },
  {
   "cell_type": "markdown",
   "id": "916eeb22",
   "metadata": {},
   "source": [
    "#### Load model"
   ]
  },
  {
   "cell_type": "code",
   "execution_count": null,
   "id": "82bd2b70",
   "metadata": {
    "ExecuteTime": {
     "start_time": "2022-03-23T21:50:52.020Z"
    }
   },
   "outputs": [],
   "source": [
    "model = models.load_model('./model')"
   ]
  }
 ],
 "metadata": {
  "kernelspec": {
   "display_name": "Python 3 (ipykernel)",
   "language": "python",
   "name": "python3"
  },
  "language_info": {
   "codemirror_mode": {
    "name": "ipython",
    "version": 3
   },
   "file_extension": ".py",
   "mimetype": "text/x-python",
   "name": "python",
   "nbconvert_exporter": "python",
   "pygments_lexer": "ipython3",
   "version": "3.10.2"
  }
 },
 "nbformat": 4,
 "nbformat_minor": 5
}
